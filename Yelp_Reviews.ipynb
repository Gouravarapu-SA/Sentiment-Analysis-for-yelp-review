{
 "cells": [
  {
   "cell_type": "code",
   "execution_count": 1,
   "id": "de0a3220",
   "metadata": {},
   "outputs": [
    {
     "name": "stdout",
     "output_type": "stream",
     "text": [
      "Requirement already satisfied: numpy in c:\\programdata\\anaconda3\\lib\\site-packages (1.24.3)\n",
      "Requirement already satisfied: pandas in c:\\programdata\\anaconda3\\lib\\site-packages (1.5.3)\n",
      "Requirement already satisfied: python-dateutil>=2.8.1 in c:\\programdata\\anaconda3\\lib\\site-packages (from pandas) (2.8.2)\n",
      "Requirement already satisfied: pytz>=2020.1 in c:\\programdata\\anaconda3\\lib\\site-packages (from pandas) (2022.7)\n",
      "Requirement already satisfied: numpy>=1.21.0 in c:\\programdata\\anaconda3\\lib\\site-packages (from pandas) (1.24.3)\n",
      "Requirement already satisfied: six>=1.5 in c:\\programdata\\anaconda3\\lib\\site-packages (from python-dateutil>=2.8.1->pandas) (1.16.0)\n",
      "Requirement already satisfied: matplotlib in c:\\programdata\\anaconda3\\lib\\site-packages (3.7.1)\n",
      "Requirement already satisfied: contourpy>=1.0.1 in c:\\programdata\\anaconda3\\lib\\site-packages (from matplotlib) (1.0.5)\n",
      "Requirement already satisfied: cycler>=0.10 in c:\\programdata\\anaconda3\\lib\\site-packages (from matplotlib) (0.11.0)\n",
      "Requirement already satisfied: fonttools>=4.22.0 in c:\\programdata\\anaconda3\\lib\\site-packages (from matplotlib) (4.25.0)\n",
      "Requirement already satisfied: kiwisolver>=1.0.1 in c:\\programdata\\anaconda3\\lib\\site-packages (from matplotlib) (1.4.4)\n",
      "Requirement already satisfied: numpy>=1.20 in c:\\programdata\\anaconda3\\lib\\site-packages (from matplotlib) (1.24.3)\n",
      "Requirement already satisfied: packaging>=20.0 in c:\\programdata\\anaconda3\\lib\\site-packages (from matplotlib) (23.0)\n",
      "Requirement already satisfied: pillow>=6.2.0 in c:\\programdata\\anaconda3\\lib\\site-packages (from matplotlib) (9.4.0)\n",
      "Requirement already satisfied: pyparsing>=2.3.1 in c:\\programdata\\anaconda3\\lib\\site-packages (from matplotlib) (3.0.9)\n",
      "Requirement already satisfied: python-dateutil>=2.7 in c:\\programdata\\anaconda3\\lib\\site-packages (from matplotlib) (2.8.2)\n",
      "Requirement already satisfied: six>=1.5 in c:\\programdata\\anaconda3\\lib\\site-packages (from python-dateutil>=2.7->matplotlib) (1.16.0)\n",
      "Requirement already satisfied: seaborn in c:\\programdata\\anaconda3\\lib\\site-packages (0.12.2)\n",
      "Requirement already satisfied: numpy!=1.24.0,>=1.17 in c:\\programdata\\anaconda3\\lib\\site-packages (from seaborn) (1.24.3)\n",
      "Requirement already satisfied: pandas>=0.25 in c:\\programdata\\anaconda3\\lib\\site-packages (from seaborn) (1.5.3)\n",
      "Requirement already satisfied: matplotlib!=3.6.1,>=3.1 in c:\\programdata\\anaconda3\\lib\\site-packages (from seaborn) (3.7.1)\n",
      "Requirement already satisfied: contourpy>=1.0.1 in c:\\programdata\\anaconda3\\lib\\site-packages (from matplotlib!=3.6.1,>=3.1->seaborn) (1.0.5)\n",
      "Requirement already satisfied: cycler>=0.10 in c:\\programdata\\anaconda3\\lib\\site-packages (from matplotlib!=3.6.1,>=3.1->seaborn) (0.11.0)\n",
      "Requirement already satisfied: fonttools>=4.22.0 in c:\\programdata\\anaconda3\\lib\\site-packages (from matplotlib!=3.6.1,>=3.1->seaborn) (4.25.0)\n",
      "Requirement already satisfied: kiwisolver>=1.0.1 in c:\\programdata\\anaconda3\\lib\\site-packages (from matplotlib!=3.6.1,>=3.1->seaborn) (1.4.4)\n",
      "Requirement already satisfied: packaging>=20.0 in c:\\programdata\\anaconda3\\lib\\site-packages (from matplotlib!=3.6.1,>=3.1->seaborn) (23.0)\n",
      "Requirement already satisfied: pillow>=6.2.0 in c:\\programdata\\anaconda3\\lib\\site-packages (from matplotlib!=3.6.1,>=3.1->seaborn) (9.4.0)\n",
      "Requirement already satisfied: pyparsing>=2.3.1 in c:\\programdata\\anaconda3\\lib\\site-packages (from matplotlib!=3.6.1,>=3.1->seaborn) (3.0.9)\n",
      "Requirement already satisfied: python-dateutil>=2.7 in c:\\programdata\\anaconda3\\lib\\site-packages (from matplotlib!=3.6.1,>=3.1->seaborn) (2.8.2)\n",
      "Requirement already satisfied: pytz>=2020.1 in c:\\programdata\\anaconda3\\lib\\site-packages (from pandas>=0.25->seaborn) (2022.7)\n",
      "Requirement already satisfied: six>=1.5 in c:\\programdata\\anaconda3\\lib\\site-packages (from python-dateutil>=2.7->matplotlib!=3.6.1,>=3.1->seaborn) (1.16.0)\n",
      "Collecting sklearn\n",
      "  Using cached sklearn-0.0.post12.tar.gz (2.6 kB)\n",
      "  Preparing metadata (setup.py): started\n",
      "  Preparing metadata (setup.py): finished with status 'error'\n"
     ]
    },
    {
     "name": "stderr",
     "output_type": "stream",
     "text": [
      "  error: subprocess-exited-with-error\n",
      "  \n",
      "  python setup.py egg_info did not run successfully.\n",
      "  exit code: 1\n",
      "  \n",
      "  [15 lines of output]\n",
      "  The 'sklearn' PyPI package is deprecated, use 'scikit-learn'\n",
      "  rather than 'sklearn' for pip commands.\n",
      "  \n",
      "  Here is how to fix this error in the main use cases:\n",
      "  - use 'pip install scikit-learn' rather than 'pip install sklearn'\n",
      "  - replace 'sklearn' by 'scikit-learn' in your pip requirements files\n",
      "    (requirements.txt, setup.py, setup.cfg, Pipfile, etc ...)\n",
      "  - if the 'sklearn' package is used by one of your dependencies,\n",
      "    it would be great if you take some time to track which package uses\n",
      "    'sklearn' instead of 'scikit-learn' and report it to their issue tracker\n",
      "  - as a last resort, set the environment variable\n",
      "    SKLEARN_ALLOW_DEPRECATED_SKLEARN_PACKAGE_INSTALL=True to avoid this error\n",
      "  \n",
      "  More information is available at\n",
      "  https://github.com/scikit-learn/sklearn-pypi-package\n",
      "  [end of output]\n",
      "  \n",
      "  note: This error originates from a subprocess, and is likely not a problem with pip.\n",
      "error: metadata-generation-failed\n",
      "\n",
      "Encountered error while generating package metadata.\n",
      "\n",
      "See above for output.\n",
      "\n",
      "note: This is an issue with the package mentioned above, not pip.\n",
      "hint: See above for details.\n"
     ]
    },
    {
     "name": "stdout",
     "output_type": "stream",
     "text": [
      "Requirement already satisfied: nltk in c:\\programdata\\anaconda3\\lib\\site-packages (3.8.1)\n",
      "Requirement already satisfied: click in c:\\programdata\\anaconda3\\lib\\site-packages (from nltk) (8.0.4)\n",
      "Requirement already satisfied: joblib in c:\\programdata\\anaconda3\\lib\\site-packages (from nltk) (1.2.0)\n",
      "Requirement already satisfied: regex>=2021.8.3 in c:\\programdata\\anaconda3\\lib\\site-packages (from nltk) (2022.7.9)\n",
      "Requirement already satisfied: tqdm in c:\\programdata\\anaconda3\\lib\\site-packages (from nltk) (4.65.0)\n",
      "Requirement already satisfied: colorama in c:\\programdata\\anaconda3\\lib\\site-packages (from click->nltk) (0.4.6)\n",
      "Requirement already satisfied: wordcloud in c:\\programdata\\anaconda3\\lib\\site-packages (1.9.3)\n",
      "Requirement already satisfied: numpy>=1.6.1 in c:\\programdata\\anaconda3\\lib\\site-packages (from wordcloud) (1.24.3)\n",
      "Requirement already satisfied: pillow in c:\\programdata\\anaconda3\\lib\\site-packages (from wordcloud) (9.4.0)\n",
      "Requirement already satisfied: matplotlib in c:\\programdata\\anaconda3\\lib\\site-packages (from wordcloud) (3.7.1)\n",
      "Requirement already satisfied: contourpy>=1.0.1 in c:\\programdata\\anaconda3\\lib\\site-packages (from matplotlib->wordcloud) (1.0.5)\n",
      "Requirement already satisfied: cycler>=0.10 in c:\\programdata\\anaconda3\\lib\\site-packages (from matplotlib->wordcloud) (0.11.0)\n",
      "Requirement already satisfied: fonttools>=4.22.0 in c:\\programdata\\anaconda3\\lib\\site-packages (from matplotlib->wordcloud) (4.25.0)\n",
      "Requirement already satisfied: kiwisolver>=1.0.1 in c:\\programdata\\anaconda3\\lib\\site-packages (from matplotlib->wordcloud) (1.4.4)\n",
      "Requirement already satisfied: packaging>=20.0 in c:\\programdata\\anaconda3\\lib\\site-packages (from matplotlib->wordcloud) (23.0)\n",
      "Requirement already satisfied: pyparsing>=2.3.1 in c:\\programdata\\anaconda3\\lib\\site-packages (from matplotlib->wordcloud) (3.0.9)\n",
      "Requirement already satisfied: python-dateutil>=2.7 in c:\\programdata\\anaconda3\\lib\\site-packages (from matplotlib->wordcloud) (2.8.2)\n",
      "Requirement already satisfied: six>=1.5 in c:\\programdata\\anaconda3\\lib\\site-packages (from python-dateutil>=2.7->matplotlib->wordcloud) (1.16.0)\n"
     ]
    }
   ],
   "source": [
    "!pip install numpy\n",
    "!pip install pandas\n",
    "!pip install matplotlib\n",
    "!pip install seaborn\n",
    "!pip install sklearn\n",
    "!pip install nltk\n",
    "!pip install wordcloud"
   ]
  },
  {
   "cell_type": "code",
   "execution_count": 2,
   "id": "3fa136f4",
   "metadata": {},
   "outputs": [
    {
     "name": "stderr",
     "output_type": "stream",
     "text": [
      "[nltk_data] Downloading package stopwords to\n",
      "[nltk_data]     C:\\Users\\ganes\\AppData\\Roaming\\nltk_data...\n",
      "[nltk_data]   Package stopwords is already up-to-date!\n"
     ]
    }
   ],
   "source": [
    "import warnings\n",
    "warnings.filterwarnings('ignore')\n",
    "\n",
    "import numpy as np\n",
    "import pandas as pd\n",
    "import json\n",
    "import seaborn as sns\n",
    "import matplotlib.pyplot as plt\n",
    "%matplotlib inline\n",
    "import string\n",
    "import nltk\n",
    "nltk.download('stopwords')\n",
    "from nltk.corpus import stopwords\n",
    "from nltk.probability import FreqDist\n",
    "from wordcloud import WordCloud, STOPWORDS\n",
    "from sklearn.model_selection import train_test_split\n",
    "from sklearn.metrics import mean_squared_error\n",
    "from sklearn.feature_extraction.text import CountVectorizer\n",
    "from sklearn.feature_extraction.text import TfidfTransformer  \n",
    "from sklearn.naive_bayes import MultinomialNB\n",
    "from sklearn.ensemble import RandomForestClassifier\n",
    "from sklearn.metrics import classification_report\n",
    "from sklearn.metrics import confusion_matrix\n",
    "from sklearn.metrics import accuracy_score"
   ]
  },
  {
   "cell_type": "code",
   "execution_count": 3,
   "id": "e999a557",
   "metadata": {},
   "outputs": [
    {
     "data": {
      "text/html": [
       "<div>\n",
       "<style scoped>\n",
       "    .dataframe tbody tr th:only-of-type {\n",
       "        vertical-align: middle;\n",
       "    }\n",
       "\n",
       "    .dataframe tbody tr th {\n",
       "        vertical-align: top;\n",
       "    }\n",
       "\n",
       "    .dataframe thead th {\n",
       "        text-align: right;\n",
       "    }\n",
       "</style>\n",
       "<table border=\"1\" class=\"dataframe\">\n",
       "  <thead>\n",
       "    <tr style=\"text-align: right;\">\n",
       "      <th></th>\n",
       "      <th>review_id</th>\n",
       "      <th>user_id</th>\n",
       "      <th>business_id</th>\n",
       "      <th>stars</th>\n",
       "      <th>date</th>\n",
       "      <th>text</th>\n",
       "      <th>useful</th>\n",
       "      <th>funny</th>\n",
       "      <th>cool</th>\n",
       "    </tr>\n",
       "  </thead>\n",
       "  <tbody>\n",
       "    <tr>\n",
       "      <th>0</th>\n",
       "      <td>vkVSCC7xljjrAI4UGfnKEQ</td>\n",
       "      <td>bv2nCi5Qv5vroFiqKGopiw</td>\n",
       "      <td>AEx2SYEUJmTxVVB18LlCwA</td>\n",
       "      <td>5</td>\n",
       "      <td>28-05-2016</td>\n",
       "      <td>Super simple place but amazing nonetheless. It...</td>\n",
       "      <td>0</td>\n",
       "      <td>0</td>\n",
       "      <td>0</td>\n",
       "    </tr>\n",
       "    <tr>\n",
       "      <th>1</th>\n",
       "      <td>n6QzIUObkYshz4dz2QRJTw</td>\n",
       "      <td>bv2nCi5Qv5vroFiqKGopiw</td>\n",
       "      <td>VR6GpWIda3SfvPC-lg9H3w</td>\n",
       "      <td>5</td>\n",
       "      <td>28-05-2016</td>\n",
       "      <td>Small unassuming place that changes their menu...</td>\n",
       "      <td>0</td>\n",
       "      <td>0</td>\n",
       "      <td>0</td>\n",
       "    </tr>\n",
       "    <tr>\n",
       "      <th>2</th>\n",
       "      <td>MV3CcKScW05u5LVfF6ok0g</td>\n",
       "      <td>bv2nCi5Qv5vroFiqKGopiw</td>\n",
       "      <td>CKC0-MOWMqoeWf6s-szl8g</td>\n",
       "      <td>5</td>\n",
       "      <td>28-05-2016</td>\n",
       "      <td>Lester's is located in a beautiful neighborhoo...</td>\n",
       "      <td>0</td>\n",
       "      <td>0</td>\n",
       "      <td>0</td>\n",
       "    </tr>\n",
       "    <tr>\n",
       "      <th>3</th>\n",
       "      <td>IXvOzsEMYtiJI0CARmj77Q</td>\n",
       "      <td>bv2nCi5Qv5vroFiqKGopiw</td>\n",
       "      <td>ACFtxLv8pGrrxMm6EgjreA</td>\n",
       "      <td>4</td>\n",
       "      <td>28-05-2016</td>\n",
       "      <td>Love coming here. Yes the place always needs t...</td>\n",
       "      <td>0</td>\n",
       "      <td>0</td>\n",
       "      <td>0</td>\n",
       "    </tr>\n",
       "    <tr>\n",
       "      <th>4</th>\n",
       "      <td>L_9BTb55X0GDtThi6GlZ6w</td>\n",
       "      <td>bv2nCi5Qv5vroFiqKGopiw</td>\n",
       "      <td>s2I_Ni76bjJNK9yG60iD-Q</td>\n",
       "      <td>4</td>\n",
       "      <td>28-05-2016</td>\n",
       "      <td>Had their chocolate almond croissant and it wa...</td>\n",
       "      <td>0</td>\n",
       "      <td>0</td>\n",
       "      <td>0</td>\n",
       "    </tr>\n",
       "  </tbody>\n",
       "</table>\n",
       "</div>"
      ],
      "text/plain": [
       "                review_id                 user_id             business_id  \\\n",
       "0  vkVSCC7xljjrAI4UGfnKEQ  bv2nCi5Qv5vroFiqKGopiw  AEx2SYEUJmTxVVB18LlCwA   \n",
       "1  n6QzIUObkYshz4dz2QRJTw  bv2nCi5Qv5vroFiqKGopiw  VR6GpWIda3SfvPC-lg9H3w   \n",
       "2  MV3CcKScW05u5LVfF6ok0g  bv2nCi5Qv5vroFiqKGopiw  CKC0-MOWMqoeWf6s-szl8g   \n",
       "3  IXvOzsEMYtiJI0CARmj77Q  bv2nCi5Qv5vroFiqKGopiw  ACFtxLv8pGrrxMm6EgjreA   \n",
       "4  L_9BTb55X0GDtThi6GlZ6w  bv2nCi5Qv5vroFiqKGopiw  s2I_Ni76bjJNK9yG60iD-Q   \n",
       "\n",
       "   stars        date                                               text  \\\n",
       "0      5  28-05-2016  Super simple place but amazing nonetheless. It...   \n",
       "1      5  28-05-2016  Small unassuming place that changes their menu...   \n",
       "2      5  28-05-2016  Lester's is located in a beautiful neighborhoo...   \n",
       "3      4  28-05-2016  Love coming here. Yes the place always needs t...   \n",
       "4      4  28-05-2016  Had their chocolate almond croissant and it wa...   \n",
       "\n",
       "   useful  funny  cool  \n",
       "0       0      0     0  \n",
       "1       0      0     0  \n",
       "2       0      0     0  \n",
       "3       0      0     0  \n",
       "4       0      0     0  "
      ]
     },
     "execution_count": 3,
     "metadata": {},
     "output_type": "execute_result"
    }
   ],
   "source": [
    "import pandas as pd\n",
    "\n",
    "# Replace 'your_file.csv' with the actual name of your CSV file\n",
    "file_path = 'yelp_rating.csv'\n",
    "\n",
    "# Read the CSV file into a pandas DataFrame\n",
    "rev = pd.read_csv(file_path)\n",
    "\n",
    "rev.head()\n"
   ]
  },
  {
   "cell_type": "code",
   "execution_count": 4,
   "id": "44490e00",
   "metadata": {},
   "outputs": [
    {
     "name": "stdout",
     "output_type": "stream",
     "text": [
      "<class 'pandas.core.frame.DataFrame'>\n",
      "RangeIndex: 90000 entries, 0 to 89999\n",
      "Data columns (total 9 columns):\n",
      " #   Column       Non-Null Count  Dtype \n",
      "---  ------       --------------  ----- \n",
      " 0   review_id    90000 non-null  object\n",
      " 1   user_id      90000 non-null  object\n",
      " 2   business_id  90000 non-null  object\n",
      " 3   stars        90000 non-null  int64 \n",
      " 4   date         90000 non-null  object\n",
      " 5   text         90000 non-null  object\n",
      " 6   useful       90000 non-null  int64 \n",
      " 7   funny        90000 non-null  int64 \n",
      " 8   cool         90000 non-null  int64 \n",
      "dtypes: int64(4), object(5)\n",
      "memory usage: 6.2+ MB\n",
      "None\n"
     ]
    }
   ],
   "source": [
    "# Display the shape of the DataFrame 'rev', which shows the number of rows and columns.\n",
    "rev.shape\n",
    "\n",
    "# Print information about the DataFrame 'rev', including data types, non-null counts, and memory usage.\n",
    "print(rev.info())\n"
   ]
  },
  {
   "cell_type": "code",
   "execution_count": 5,
   "id": "737352ab",
   "metadata": {},
   "outputs": [],
   "source": [
    "# Create a new DataFrame 'reviews' by dropping specific columns ('date', 'business_id', 'review_id', 'user_id') from the original DataFrame 'rev'.\n",
    "reviews = rev.drop(['date', 'business_id', 'review_id', 'user_id'], axis=1)\n"
   ]
  },
  {
   "cell_type": "code",
   "execution_count": 6,
   "id": "b514dccb",
   "metadata": {},
   "outputs": [],
   "source": [
    "# Create a new column 'text length' in the DataFrame 'reviews', which represents the length (number of characters) of the 'text' column in the original DataFrame 'rev'.\n",
    "reviews['text length'] = rev['text'].apply(len)\n"
   ]
  },
  {
   "cell_type": "code",
   "execution_count": 7,
   "id": "8a1eb485",
   "metadata": {},
   "outputs": [
    {
     "data": {
      "text/html": [
       "<div>\n",
       "<style scoped>\n",
       "    .dataframe tbody tr th:only-of-type {\n",
       "        vertical-align: middle;\n",
       "    }\n",
       "\n",
       "    .dataframe tbody tr th {\n",
       "        vertical-align: top;\n",
       "    }\n",
       "\n",
       "    .dataframe thead th {\n",
       "        text-align: right;\n",
       "    }\n",
       "</style>\n",
       "<table border=\"1\" class=\"dataframe\">\n",
       "  <thead>\n",
       "    <tr style=\"text-align: right;\">\n",
       "      <th></th>\n",
       "      <th>stars</th>\n",
       "      <th>text</th>\n",
       "      <th>useful</th>\n",
       "      <th>funny</th>\n",
       "      <th>cool</th>\n",
       "      <th>text length</th>\n",
       "    </tr>\n",
       "  </thead>\n",
       "  <tbody>\n",
       "    <tr>\n",
       "      <th>0</th>\n",
       "      <td>5</td>\n",
       "      <td>Super simple place but amazing nonetheless. It...</td>\n",
       "      <td>0</td>\n",
       "      <td>0</td>\n",
       "      <td>0</td>\n",
       "      <td>213</td>\n",
       "    </tr>\n",
       "    <tr>\n",
       "      <th>1</th>\n",
       "      <td>5</td>\n",
       "      <td>Small unassuming place that changes their menu...</td>\n",
       "      <td>0</td>\n",
       "      <td>0</td>\n",
       "      <td>0</td>\n",
       "      <td>502</td>\n",
       "    </tr>\n",
       "    <tr>\n",
       "      <th>2</th>\n",
       "      <td>5</td>\n",
       "      <td>Lester's is located in a beautiful neighborhoo...</td>\n",
       "      <td>0</td>\n",
       "      <td>0</td>\n",
       "      <td>0</td>\n",
       "      <td>373</td>\n",
       "    </tr>\n",
       "    <tr>\n",
       "      <th>3</th>\n",
       "      <td>4</td>\n",
       "      <td>Love coming here. Yes the place always needs t...</td>\n",
       "      <td>0</td>\n",
       "      <td>0</td>\n",
       "      <td>0</td>\n",
       "      <td>523</td>\n",
       "    </tr>\n",
       "    <tr>\n",
       "      <th>4</th>\n",
       "      <td>4</td>\n",
       "      <td>Had their chocolate almond croissant and it wa...</td>\n",
       "      <td>0</td>\n",
       "      <td>0</td>\n",
       "      <td>0</td>\n",
       "      <td>231</td>\n",
       "    </tr>\n",
       "  </tbody>\n",
       "</table>\n",
       "</div>"
      ],
      "text/plain": [
       "   stars                                               text  useful  funny  \\\n",
       "0      5  Super simple place but amazing nonetheless. It...       0      0   \n",
       "1      5  Small unassuming place that changes their menu...       0      0   \n",
       "2      5  Lester's is located in a beautiful neighborhoo...       0      0   \n",
       "3      4  Love coming here. Yes the place always needs t...       0      0   \n",
       "4      4  Had their chocolate almond croissant and it wa...       0      0   \n",
       "\n",
       "   cool  text length  \n",
       "0     0          213  \n",
       "1     0          502  \n",
       "2     0          373  \n",
       "3     0          523  \n",
       "4     0          231  "
      ]
     },
     "execution_count": 7,
     "metadata": {},
     "output_type": "execute_result"
    }
   ],
   "source": [
    "reviews.head()"
   ]
  },
  {
   "cell_type": "code",
   "execution_count": 8,
   "id": "37d5f5dd",
   "metadata": {},
   "outputs": [
    {
     "data": {
      "text/plain": [
       "False"
      ]
     },
     "execution_count": 8,
     "metadata": {},
     "output_type": "execute_result"
    }
   ],
   "source": [
    "# Check if there are any missing (null) values in the 'reviews' DataFrame.\n",
    "# The expression 'reviews.isnull()' returns a DataFrame of the same shape as 'reviews' with True at the positions where values are null and False where they are not.\n",
    "# 'any().any()' checks if there is at least one True value in the resulting boolean DataFrame, indicating the presence of at least one missing value in 'reviews'.\n",
    "reviews.isnull().any().any()\n"
   ]
  },
  {
   "cell_type": "code",
   "execution_count": 9,
   "id": "3189395d",
   "metadata": {},
   "outputs": [
    {
     "data": {
      "text/plain": [
       "Text(0, 0.5, 'Count')"
      ]
     },
     "execution_count": 9,
     "metadata": {},
     "output_type": "execute_result"
    },
    {
     "data": {
      "image/png": "[encoded data removed]",
      "text/plain": [
       "<Figure size 640x480 with 1 Axes>"
      ]
     },
     "metadata": {},
     "output_type": "display_data"
    }
   ],
   "source": [
    "# Create a count plot using Seaborn to visualize the distribution of 'stars' in the 'reviews' DataFrame.\n",
    "# The 'x' parameter specifies the column for which the counts are to be plotted ('stars' in this case).\n",
    "# The 'data' parameter specifies the DataFrame to use ( 'reviews').\n",
    "# The 'palette' parameter sets the color palette for the plot (using the 'Blues_d' palette).\n",
    "cplot = sns.countplot(x='stars', data=reviews, palette=\"Blues_d\")\n",
    "\n",
    "# Set the title of the count plot.\n",
    "cplot.set_title('Distribution of Stars')\n",
    "\n",
    "# Set the y-axis label of the count plot.\n",
    "cplot.set_ylabel('Count')\n"
   ]
  },
  {
   "cell_type": "code",
   "execution_count": 10,
   "id": "f9eb6992",
   "metadata": {},
   "outputs": [
    {
     "data": {
      "text/plain": [
       "Text(0.5, 1.0, 'Text Length Distribution')"
      ]
     },
     "execution_count": 10,
     "metadata": {},
     "output_type": "execute_result"
    },
    {
     "data": {
      "image/png": "[encoded data removed]",
      "text/plain": [
       "<Figure size 1200x800 with 1 Axes>"
      ]
     },
     "metadata": {},
     "output_type": "display_data"
    }
   ],
   "source": [
    "# Create a new Matplotlib figure with a specified size (12 inches by 8 inches).\n",
    "fig = plt.figure(figsize=(12, 8))\n",
    "\n",
    "# Use Seaborn to plot a distribution of the 'text length' column from the 'reviews' DataFrame.\n",
    "# The 'kde=True' parameter adds a Kernel Density Estimate plot on top of the histogram.\n",
    "# The 'bins=50' parameter specifies the number of bins in the histogram.\n",
    "sns.distplot(reviews['text length'], kde=True, bins=50)\n",
    "\n",
    "# Set the title of the plot to 'Text Length Distribution'.\n",
    "plt.title('Text Length Distribution')\n"
   ]
  },
  {
   "cell_type": "code",
   "execution_count": 11,
   "id": "ee6f64b0",
   "metadata": {},
   "outputs": [
    {
     "data": {
      "text/html": [
       "<div>\n",
       "<style scoped>\n",
       "    .dataframe tbody tr th:only-of-type {\n",
       "        vertical-align: middle;\n",
       "    }\n",
       "\n",
       "    .dataframe tbody tr th {\n",
       "        vertical-align: top;\n",
       "    }\n",
       "\n",
       "    .dataframe thead th {\n",
       "        text-align: right;\n",
       "    }\n",
       "</style>\n",
       "<table border=\"1\" class=\"dataframe\">\n",
       "  <thead>\n",
       "    <tr style=\"text-align: right;\">\n",
       "      <th></th>\n",
       "      <th>stars</th>\n",
       "      <th>text</th>\n",
       "    </tr>\n",
       "  </thead>\n",
       "  <tbody>\n",
       "    <tr>\n",
       "      <th>0</th>\n",
       "      <td>5</td>\n",
       "      <td>Super simple place but amazing nonetheless. It...</td>\n",
       "    </tr>\n",
       "    <tr>\n",
       "      <th>1</th>\n",
       "      <td>5</td>\n",
       "      <td>Small unassuming place that changes their menu...</td>\n",
       "    </tr>\n",
       "    <tr>\n",
       "      <th>2</th>\n",
       "      <td>5</td>\n",
       "      <td>Lester's is located in a beautiful neighborhoo...</td>\n",
       "    </tr>\n",
       "    <tr>\n",
       "      <th>3</th>\n",
       "      <td>4</td>\n",
       "      <td>Love coming here. Yes the place always needs t...</td>\n",
       "    </tr>\n",
       "    <tr>\n",
       "      <th>4</th>\n",
       "      <td>4</td>\n",
       "      <td>Had their chocolate almond croissant and it wa...</td>\n",
       "    </tr>\n",
       "  </tbody>\n",
       "</table>\n",
       "</div>"
      ],
      "text/plain": [
       "   stars                                               text\n",
       "0      5  Super simple place but amazing nonetheless. It...\n",
       "1      5  Small unassuming place that changes their menu...\n",
       "2      5  Lester's is located in a beautiful neighborhoo...\n",
       "3      4  Love coming here. Yes the place always needs t...\n",
       "4      4  Had their chocolate almond croissant and it wa..."
      ]
     },
     "execution_count": 11,
     "metadata": {},
     "output_type": "execute_result"
    }
   ],
   "source": [
    "text = reviews[['stars','text']]\n",
    "text.head()"
   ]
  },
  {
   "cell_type": "code",
   "execution_count": 12,
   "id": "4f35bb14",
   "metadata": {},
   "outputs": [],
   "source": [
    "# Define a list of common English stopwords using NLTK's stopwords.words(\"english\").\n",
    "cachedStopWords = stopwords.words(\"english\")\n",
    "\n",
    "# Define a function 'remove_punc_stopword' to preprocess text by removing punctuation and stopwords.\n",
    "# The function takes a 'text' parameter as input.\n",
    "\n",
    "def remove_punc_stopword(text):\n",
    "    # Remove punctuation from the text and convert it to lowercase.\n",
    "    remove_punc = [word for word in text.lower() if word not in string.punctuation]\n",
    "    \n",
    "    # Join the characters to form a string without punctuation.\n",
    "    remove_punc = ''.join(remove_punc)\n",
    "    \n",
    "    # Tokenize the string, removing stopwords using the predefined list of stopwords.\n",
    "    return [word for word in remove_punc.split() if word not in cachedStopWords]\n"
   ]
  },
  {
   "cell_type": "code",
   "execution_count": 13,
   "id": "8adc9dbc",
   "metadata": {},
   "outputs": [],
   "source": [
    "cleaned_text = text.copy()\n",
    "cleaned_text['text'] = text['text'].apply(remove_punc_stopword)"
   ]
  },
  {
   "cell_type": "code",
   "execution_count": 14,
   "id": "a8e38f12",
   "metadata": {},
   "outputs": [
    {
     "data": {
      "text/html": [
       "<div>\n",
       "<style scoped>\n",
       "    .dataframe tbody tr th:only-of-type {\n",
       "        vertical-align: middle;\n",
       "    }\n",
       "\n",
       "    .dataframe tbody tr th {\n",
       "        vertical-align: top;\n",
       "    }\n",
       "\n",
       "    .dataframe thead th {\n",
       "        text-align: right;\n",
       "    }\n",
       "</style>\n",
       "<table border=\"1\" class=\"dataframe\">\n",
       "  <thead>\n",
       "    <tr style=\"text-align: right;\">\n",
       "      <th></th>\n",
       "      <th>stars</th>\n",
       "      <th>text</th>\n",
       "    </tr>\n",
       "  </thead>\n",
       "  <tbody>\n",
       "    <tr>\n",
       "      <th>0</th>\n",
       "      <td>5</td>\n",
       "      <td>[super, simple, place, amazing, nonetheless, a...</td>\n",
       "    </tr>\n",
       "    <tr>\n",
       "      <th>1</th>\n",
       "      <td>5</td>\n",
       "      <td>[small, unassuming, place, changes, menu, ever...</td>\n",
       "    </tr>\n",
       "    <tr>\n",
       "      <th>2</th>\n",
       "      <td>5</td>\n",
       "      <td>[lesters, located, beautiful, neighborhood, si...</td>\n",
       "    </tr>\n",
       "    <tr>\n",
       "      <th>3</th>\n",
       "      <td>4</td>\n",
       "      <td>[love, coming, yes, place, always, needs, floo...</td>\n",
       "    </tr>\n",
       "    <tr>\n",
       "      <th>4</th>\n",
       "      <td>4</td>\n",
       "      <td>[chocolate, almond, croissant, amazing, light,...</td>\n",
       "    </tr>\n",
       "  </tbody>\n",
       "</table>\n",
       "</div>"
      ],
      "text/plain": [
       "   stars                                               text\n",
       "0      5  [super, simple, place, amazing, nonetheless, a...\n",
       "1      5  [small, unassuming, place, changes, menu, ever...\n",
       "2      5  [lesters, located, beautiful, neighborhood, si...\n",
       "3      4  [love, coming, yes, place, always, needs, floo...\n",
       "4      4  [chocolate, almond, croissant, amazing, light,..."
      ]
     },
     "execution_count": 14,
     "metadata": {},
     "output_type": "execute_result"
    }
   ],
   "source": [
    "cleaned_text.head()"
   ]
  },
  {
   "cell_type": "code",
   "execution_count": 15,
   "id": "c43ec20a",
   "metadata": {},
   "outputs": [],
   "source": [
    "# Define a function 'plot_Freq' for visualizing the frequency distribution of words in a text dataset.\n",
    "# The function takes a DataFrame 'data' as input.\n",
    "\n",
    "def plot_Freq(data):\n",
    "    # Reset the index of the 'text' column in the DataFrame and concatenate all texts into a single list.\n",
    "    texts = np.concatenate(data.text.reset_index(drop=True))\n",
    "    \n",
    "    # Use NLTK's FreqDist to compute the frequency distribution of words and plot the top 20 most common words.\n",
    "    # The 'cumulative=False' parameter indicates that the plot shows individual frequencies, not cumulative.\n",
    "    FreqDist(texts).plot(20, cumulative=False)\n"
   ]
  },
  {
   "cell_type": "code",
   "execution_count": 16,
   "id": "62237d68",
   "metadata": {},
   "outputs": [
    {
     "data": {
      "image/png": "[encoded data removed]",
      "text/plain": [
       "<Figure size 640x480 with 1 Axes>"
      ]
     },
     "metadata": {},
     "output_type": "display_data"
    }
   ],
   "source": [
    "plot_Freq(cleaned_text[cleaned_text['stars']==1])"
   ]
  },
  {
   "cell_type": "code",
   "execution_count": 17,
   "id": "2af1514a",
   "metadata": {},
   "outputs": [],
   "source": [
    "# Import necessary libraries for creating a WordCloud visualization.\n",
    "import matplotlib.pyplot as plt\n",
    "from wordcloud import WordCloud, STOPWORDS\n",
    "\n",
    "# Define a function 'reviewCloud' to generate and display a WordCloud based on reviews with a specific star rating.\n",
    "# The function takes a 'star' parameter indicating the star rating.\n",
    "\n",
    "def reviewCloud(star):\n",
    "    # Concatenate all text reviews corresponding to the given star rating.\n",
    "    startext = ' '.join(text[text['stars'] == star]['text'])\n",
    "\n",
    "    # Create a WordCloud object with specified parameters.\n",
    "    wordcloud = WordCloud(\n",
    "        width=3000,\n",
    "        height=2000,\n",
    "        background_color='black',\n",
    "        stopwords=STOPWORDS\n",
    "    ).generate(str(startext), orientation='NA')\n",
    "\n",
    "    # Get the font size used in the WordCloud.\n",
    "    font = wordcloud.get_fontsize()\n",
    "\n",
    "    # Rest of the code for displaying or saving the WordCloud can be added here.\n",
    "  \n",
    "    # Example usage: Generate and display a WordCloud for reviews with a star rating of 1.\n",
    "    reviewCloud(1)\n"
   ]
  },
  {
   "cell_type": "code",
   "execution_count": 18,
   "id": "abe8e615",
   "metadata": {},
   "outputs": [
    {
     "data": {
      "text/html": [
       "<div>\n",
       "<style scoped>\n",
       "    .dataframe tbody tr th:only-of-type {\n",
       "        vertical-align: middle;\n",
       "    }\n",
       "\n",
       "    .dataframe tbody tr th {\n",
       "        vertical-align: top;\n",
       "    }\n",
       "\n",
       "    .dataframe thead th {\n",
       "        text-align: right;\n",
       "    }\n",
       "</style>\n",
       "<table border=\"1\" class=\"dataframe\">\n",
       "  <thead>\n",
       "    <tr style=\"text-align: right;\">\n",
       "      <th></th>\n",
       "      <th>review_id</th>\n",
       "      <th>user_id</th>\n",
       "      <th>business_id</th>\n",
       "      <th>stars</th>\n",
       "      <th>date</th>\n",
       "      <th>text</th>\n",
       "      <th>useful</th>\n",
       "      <th>funny</th>\n",
       "      <th>cool</th>\n",
       "    </tr>\n",
       "  </thead>\n",
       "  <tbody>\n",
       "    <tr>\n",
       "      <th>89995</th>\n",
       "      <td>qBcgzcv6ARS04Nxh77K_Bw</td>\n",
       "      <td>XhrlkiNB867EmtYuDTcq7Q</td>\n",
       "      <td>FTo64sohiSRBRM9e9NzeAQ</td>\n",
       "      <td>4</td>\n",
       "      <td>22-08-2017</td>\n",
       "      <td>Stopped in for margaritas and was surprised to...</td>\n",
       "      <td>1</td>\n",
       "      <td>0</td>\n",
       "      <td>0</td>\n",
       "    </tr>\n",
       "    <tr>\n",
       "      <th>89996</th>\n",
       "      <td>LtPhRHQsTljApk0LS_4awQ</td>\n",
       "      <td>XhrlkiNB867EmtYuDTcq7Q</td>\n",
       "      <td>vxByu2zWCbv1qMRf3kOW6g</td>\n",
       "      <td>5</td>\n",
       "      <td>15-08-2017</td>\n",
       "      <td>Delicious and unique mead\\/flavors!\\nTried the...</td>\n",
       "      <td>0</td>\n",
       "      <td>0</td>\n",
       "      <td>1</td>\n",
       "    </tr>\n",
       "    <tr>\n",
       "      <th>89997</th>\n",
       "      <td>up738VLjzsnd97teSqbc3g</td>\n",
       "      <td>XhrlkiNB867EmtYuDTcq7Q</td>\n",
       "      <td>qlYEn2ANcY-x-2IwgOD91g</td>\n",
       "      <td>4</td>\n",
       "      <td>22-08-2017</td>\n",
       "      <td>What a super cool grocery! Bright clean space,...</td>\n",
       "      <td>0</td>\n",
       "      <td>0</td>\n",
       "      <td>0</td>\n",
       "    </tr>\n",
       "    <tr>\n",
       "      <th>89998</th>\n",
       "      <td>hV7L7Lo4GGuKtGwTCx2tdg</td>\n",
       "      <td>XhrlkiNB867EmtYuDTcq7Q</td>\n",
       "      <td>C37hwsGUHn_3-il0ypeY-Q</td>\n",
       "      <td>5</td>\n",
       "      <td>16-08-2017</td>\n",
       "      <td>Dark bar with TCM playing, umm hell yes!! \\n\\n...</td>\n",
       "      <td>1</td>\n",
       "      <td>0</td>\n",
       "      <td>0</td>\n",
       "    </tr>\n",
       "    <tr>\n",
       "      <th>89999</th>\n",
       "      <td>IU0DFDTvcsqQodz3bnnV4g</td>\n",
       "      <td>XhrlkiNB867EmtYuDTcq7Q</td>\n",
       "      <td>l6nLQvrzzMO4zJC7jJjQGg</td>\n",
       "      <td>5</td>\n",
       "      <td>18-09-2013</td>\n",
       "      <td>I've found super cool stuff here at really rea...</td>\n",
       "      <td>6</td>\n",
       "      <td>2</td>\n",
       "      <td>2</td>\n",
       "    </tr>\n",
       "  </tbody>\n",
       "</table>\n",
       "</div>"
      ],
      "text/plain": [
       "                    review_id                 user_id             business_id  \\\n",
       "89995  qBcgzcv6ARS04Nxh77K_Bw  XhrlkiNB867EmtYuDTcq7Q  FTo64sohiSRBRM9e9NzeAQ   \n",
       "89996  LtPhRHQsTljApk0LS_4awQ  XhrlkiNB867EmtYuDTcq7Q  vxByu2zWCbv1qMRf3kOW6g   \n",
       "89997  up738VLjzsnd97teSqbc3g  XhrlkiNB867EmtYuDTcq7Q  qlYEn2ANcY-x-2IwgOD91g   \n",
       "89998  hV7L7Lo4GGuKtGwTCx2tdg  XhrlkiNB867EmtYuDTcq7Q  C37hwsGUHn_3-il0ypeY-Q   \n",
       "89999  IU0DFDTvcsqQodz3bnnV4g  XhrlkiNB867EmtYuDTcq7Q  l6nLQvrzzMO4zJC7jJjQGg   \n",
       "\n",
       "       stars        date                                               text  \\\n",
       "89995      4  22-08-2017  Stopped in for margaritas and was surprised to...   \n",
       "89996      5  15-08-2017  Delicious and unique mead\\/flavors!\\nTried the...   \n",
       "89997      4  22-08-2017  What a super cool grocery! Bright clean space,...   \n",
       "89998      5  16-08-2017  Dark bar with TCM playing, umm hell yes!! \\n\\n...   \n",
       "89999      5  18-09-2013  I've found super cool stuff here at really rea...   \n",
       "\n",
       "       useful  funny  cool  \n",
       "89995       1      0     0  \n",
       "89996       0      0     1  \n",
       "89997       0      0     0  \n",
       "89998       1      0     0  \n",
       "89999       6      2     2  "
      ]
     },
     "execution_count": 18,
     "metadata": {},
     "output_type": "execute_result"
    }
   ],
   "source": [
    "rev.tail()"
   ]
  },
  {
   "cell_type": "code",
   "execution_count": 19,
   "id": "8678e678",
   "metadata": {},
   "outputs": [
    {
     "data": {
      "text/plain": [
       "review_id                                 dNwJP7Kc-GLy6SAWVLVI7Q\n",
       "user_id                                   ayHvt_WaKGO44oe6BbgSsA\n",
       "business_id                               Wc9UpJhOcdSj7olZkz7SJA\n",
       "stars                                                          5\n",
       "date                                                  28-01-2016\n",
       "text           Wow! Exemplary experience!!\\nI've been meaning...\n",
       "useful                                                         2\n",
       "funny                                                          0\n",
       "cool                                                           0\n",
       "Name: 86353, dtype: object"
      ]
     },
     "execution_count": 19,
     "metadata": {},
     "output_type": "execute_result"
    }
   ],
   "source": [
    "rev.loc[86353,:]"
   ]
  },
  {
   "cell_type": "code",
   "execution_count": 20,
   "id": "c454878c",
   "metadata": {},
   "outputs": [],
   "source": [
    "restaurant = rev[rev.business_id==rev.loc[86353,:].business_id]"
   ]
  },
  {
   "cell_type": "code",
   "execution_count": 21,
   "id": "4aae48c8",
   "metadata": {},
   "outputs": [
    {
     "data": {
      "text/html": [
       "<div>\n",
       "<style scoped>\n",
       "    .dataframe tbody tr th:only-of-type {\n",
       "        vertical-align: middle;\n",
       "    }\n",
       "\n",
       "    .dataframe tbody tr th {\n",
       "        vertical-align: top;\n",
       "    }\n",
       "\n",
       "    .dataframe thead th {\n",
       "        text-align: right;\n",
       "    }\n",
       "</style>\n",
       "<table border=\"1\" class=\"dataframe\">\n",
       "  <thead>\n",
       "    <tr style=\"text-align: right;\">\n",
       "      <th></th>\n",
       "      <th>review_id</th>\n",
       "      <th>user_id</th>\n",
       "      <th>business_id</th>\n",
       "      <th>stars</th>\n",
       "      <th>date</th>\n",
       "      <th>text</th>\n",
       "      <th>useful</th>\n",
       "      <th>funny</th>\n",
       "      <th>cool</th>\n",
       "    </tr>\n",
       "  </thead>\n",
       "  <tbody>\n",
       "    <tr>\n",
       "      <th>1944</th>\n",
       "      <td>hOQYuoBHKG4bEXJd-FzEZg</td>\n",
       "      <td>Jt4u7qnfrk35buainfOuGA</td>\n",
       "      <td>Wc9UpJhOcdSj7olZkz7SJA</td>\n",
       "      <td>4</td>\n",
       "      <td>16-12-2013</td>\n",
       "      <td>This review only speaks to the amazing milksha...</td>\n",
       "      <td>0</td>\n",
       "      <td>0</td>\n",
       "      <td>1</td>\n",
       "    </tr>\n",
       "    <tr>\n",
       "      <th>3633</th>\n",
       "      <td>uHeyFnH3CH73-WRpJLFZkA</td>\n",
       "      <td>mvq6mTZBd3mdDg_bZRWiuQ</td>\n",
       "      <td>Wc9UpJhOcdSj7olZkz7SJA</td>\n",
       "      <td>4</td>\n",
       "      <td>05-06-2015</td>\n",
       "      <td>Dined in for lunch with a friend.  There's ver...</td>\n",
       "      <td>0</td>\n",
       "      <td>0</td>\n",
       "      <td>0</td>\n",
       "    </tr>\n",
       "    <tr>\n",
       "      <th>8032</th>\n",
       "      <td>wcRdEiSHg7vvc0KQqpeaTQ</td>\n",
       "      <td>WuNd1-hj2C5Ll0_6mHNsqA</td>\n",
       "      <td>Wc9UpJhOcdSj7olZkz7SJA</td>\n",
       "      <td>5</td>\n",
       "      <td>08-01-2016</td>\n",
       "      <td>SO MUCH NOM. Their burgers are hard to beat. T...</td>\n",
       "      <td>0</td>\n",
       "      <td>0</td>\n",
       "      <td>0</td>\n",
       "    </tr>\n",
       "    <tr>\n",
       "      <th>9075</th>\n",
       "      <td>VkpoEHtTIkwlHz_NdDIxiA</td>\n",
       "      <td>WMdkiGr8YagU7Qnn8FosLw</td>\n",
       "      <td>Wc9UpJhOcdSj7olZkz7SJA</td>\n",
       "      <td>2</td>\n",
       "      <td>18-06-2017</td>\n",
       "      <td>The hubby and I was driving around town trying...</td>\n",
       "      <td>0</td>\n",
       "      <td>0</td>\n",
       "      <td>0</td>\n",
       "    </tr>\n",
       "    <tr>\n",
       "      <th>11750</th>\n",
       "      <td>On9jbZlPYKijK-49eX18Yw</td>\n",
       "      <td>wDK9lP9Wtn9Lzx8kGR5gpw</td>\n",
       "      <td>Wc9UpJhOcdSj7olZkz7SJA</td>\n",
       "      <td>5</td>\n",
       "      <td>18-07-2014</td>\n",
       "      <td>Wonderful food and great staff!! An employee t...</td>\n",
       "      <td>0</td>\n",
       "      <td>1</td>\n",
       "      <td>0</td>\n",
       "    </tr>\n",
       "  </tbody>\n",
       "</table>\n",
       "</div>"
      ],
      "text/plain": [
       "                    review_id                 user_id             business_id  \\\n",
       "1944   hOQYuoBHKG4bEXJd-FzEZg  Jt4u7qnfrk35buainfOuGA  Wc9UpJhOcdSj7olZkz7SJA   \n",
       "3633   uHeyFnH3CH73-WRpJLFZkA  mvq6mTZBd3mdDg_bZRWiuQ  Wc9UpJhOcdSj7olZkz7SJA   \n",
       "8032   wcRdEiSHg7vvc0KQqpeaTQ  WuNd1-hj2C5Ll0_6mHNsqA  Wc9UpJhOcdSj7olZkz7SJA   \n",
       "9075   VkpoEHtTIkwlHz_NdDIxiA  WMdkiGr8YagU7Qnn8FosLw  Wc9UpJhOcdSj7olZkz7SJA   \n",
       "11750  On9jbZlPYKijK-49eX18Yw  wDK9lP9Wtn9Lzx8kGR5gpw  Wc9UpJhOcdSj7olZkz7SJA   \n",
       "\n",
       "       stars        date                                               text  \\\n",
       "1944       4  16-12-2013  This review only speaks to the amazing milksha...   \n",
       "3633       4  05-06-2015  Dined in for lunch with a friend.  There's ver...   \n",
       "8032       5  08-01-2016  SO MUCH NOM. Their burgers are hard to beat. T...   \n",
       "9075       2  18-06-2017  The hubby and I was driving around town trying...   \n",
       "11750      5  18-07-2014  Wonderful food and great staff!! An employee t...   \n",
       "\n",
       "       useful  funny  cool  \n",
       "1944        0      0     1  \n",
       "3633        0      0     0  \n",
       "8032        0      0     0  \n",
       "9075        0      0     0  \n",
       "11750       0      1     0  "
      ]
     },
     "execution_count": 21,
     "metadata": {},
     "output_type": "execute_result"
    }
   ],
   "source": [
    "restaurant.head()"
   ]
  },
  {
   "cell_type": "code",
   "execution_count": 22,
   "id": "66b03d2d",
   "metadata": {},
   "outputs": [],
   "source": [
    "selected_words = ['awesome', 'great', 'fantastic', 'amazing', 'love', 'horrible', 'bad', 'terrible', \n",
    "                  'awful', 'wow', 'hate']"
   ]
  },
  {
   "cell_type": "code",
   "execution_count": 23,
   "id": "fcc07f77",
   "metadata": {},
   "outputs": [
    {
     "data": {
      "text/plain": [
       "array(['awesome', 'great', 'fantastic', 'amazing', 'love', 'horrible',\n",
       "       'bad', 'terrible', 'awful', 'wow', 'hate'], dtype=object)"
      ]
     },
     "execution_count": 23,
     "metadata": {},
     "output_type": "execute_result"
    }
   ],
   "source": [
    "# Create a CountVectorizer with a specified vocabulary (selected_words) and case-insensitive matching.\n",
    "vectorizer = CountVectorizer(vocabulary=selected_words, lowercase=False)\n",
    "\n",
    "# Fit and transform the 'text' column of the 'restaurant' DataFrame using the CountVectorizer.\n",
    "# The result is a sparse matrix representing the counts of selected words in each text entry.\n",
    "selected_word_count = vectorizer.fit_transform(restaurant['text'].values.astype('U'))\n",
    "\n",
    "# Retrieve the feature names (words) in the same order as they appear in the transformed data.\n",
    "vectorizer.get_feature_names_out()\n"
   ]
  },
  {
   "cell_type": "code",
   "execution_count": 24,
   "id": "a0b7def9",
   "metadata": {},
   "outputs": [
    {
     "name": "stdout",
     "output_type": "stream",
     "text": [
      "[[0 0 0 1 0 0 0 0 0 0 0]\n",
      " [0 1 0 0 1 0 1 0 0 0 0]\n",
      " [0 0 0 0 0 0 0 0 0 0 0]\n",
      " [0 0 0 0 0 0 0 0 0 0 0]\n",
      " [0 2 0 1 0 0 0 0 0 0 0]\n",
      " [0 2 2 0 0 0 0 0 0 0 0]\n",
      " [0 0 0 0 0 0 0 0 0 0 0]\n",
      " [0 0 0 0 0 0 0 0 0 0 0]\n",
      " [0 0 0 0 0 0 1 0 0 0 0]\n",
      " [0 0 0 0 0 0 0 0 0 0 0]\n",
      " [1 0 0 0 0 0 0 0 0 0 0]\n",
      " [0 0 0 0 0 0 0 0 0 0 0]\n",
      " [0 0 0 1 0 0 0 0 0 0 0]\n",
      " [0 0 0 0 0 0 0 0 0 0 0]\n",
      " [0 0 0 0 0 0 0 0 0 0 0]\n",
      " [0 0 0 0 0 0 0 0 0 0 0]\n",
      " [0 1 0 0 0 0 0 0 0 0 0]\n",
      " [0 1 0 0 0 0 0 0 0 0 0]\n",
      " [0 0 0 1 0 0 0 0 0 0 0]\n",
      " [0 2 0 0 0 0 0 0 0 0 0]\n",
      " [0 0 0 0 0 0 0 0 0 0 1]]\n"
     ]
    }
   ],
   "source": [
    "# Convert the sparse matrix 'selected_word_count' to a dense array representation.\n",
    "word_count_array = selected_word_count.toarray()\n",
    "\n",
    "# Display the shape of the resulting dense array, indicating the number of rows (text entries) and columns (selected words).\n",
    "word_count_array.shape\n",
    "\n",
    "# Print the actual content of the dense array, representing word counts in each text entry.\n",
    "print(word_count_array)\n"
   ]
  },
  {
   "cell_type": "code",
   "execution_count": 25,
   "id": "19e42d42",
   "metadata": {},
   "outputs": [],
   "source": [
    "# Create a DataFrame 'rest' to aggregate and represent the counts of selected words across all text entries.\n",
    "# The DataFrame has the selected words as index and the sum of their counts across all text entries as the 'Count' column.\n",
    "rest = pd.DataFrame(index=vectorizer.get_feature_names_out(), \\\n",
    "                    data=word_count_array.sum(axis=0)).rename(columns={0: 'Count'})\n"
   ]
  },
  {
   "cell_type": "code",
   "execution_count": 26,
   "id": "7bb69e9d",
   "metadata": {},
   "outputs": [
    {
     "data": {
      "text/plain": [
       "<Axes: >"
      ]
     },
     "execution_count": 26,
     "metadata": {},
     "output_type": "execute_result"
    },
    {
     "data": {
      "image/png": "[encoded data removed]",
      "text/plain": [
       "<Figure size 700x700 with 1 Axes>"
      ]
     },
     "metadata": {},
     "output_type": "display_data"
    }
   ],
   "source": [
    "rest.plot(kind='bar', stacked=False, figsize=[7,7], colormap='winter')"
   ]
  },
  {
   "cell_type": "code",
   "execution_count": 27,
   "id": "9c7a4153",
   "metadata": {},
   "outputs": [
    {
     "data": {
      "image/png": "[encoded data removed]",
      "text/plain": [
       "<Figure size 640x480 with 1 Axes>"
      ]
     },
     "metadata": {},
     "output_type": "display_data"
    }
   ],
   "source": [
    "plot_Freq(cleaned_text[cleaned_text['stars']==5])"
   ]
  },
  {
   "cell_type": "code",
   "execution_count": 28,
   "id": "9e229358",
   "metadata": {},
   "outputs": [],
   "source": [
    "select_stars = text[(text['stars']==1) | (text['stars']==5)]"
   ]
  },
  {
   "cell_type": "code",
   "execution_count": 29,
   "id": "11d57829",
   "metadata": {},
   "outputs": [],
   "source": [
    "x = select_stars['text']\n",
    "y = select_stars['stars']"
   ]
  },
  {
   "cell_type": "code",
   "execution_count": 30,
   "id": "2de43eaf",
   "metadata": {},
   "outputs": [],
   "source": [
    "count_vec = CountVectorizer().fit(x)\n",
    "x = count_vec.transform(x)"
   ]
  },
  {
   "cell_type": "code",
   "execution_count": 31,
   "id": "badd1cb1",
   "metadata": {},
   "outputs": [
    {
     "name": "stdout",
     "output_type": "stream",
     "text": [
      "Shape of the sparse matrix:  (50076, 60984)\n"
     ]
    }
   ],
   "source": [
    "print(\"Shape of the sparse matrix: \", x.shape)"
   ]
  },
  {
   "cell_type": "code",
   "execution_count": 32,
   "id": "019b466c",
   "metadata": {},
   "outputs": [],
   "source": [
    "x_train, x_test, y_train, y_test = train_test_split(x,y, test_size=0.2, random_state=42)"
   ]
  },
  {
   "cell_type": "code",
   "execution_count": 33,
   "id": "f97b07e9",
   "metadata": {},
   "outputs": [
    {
     "name": "stdout",
     "output_type": "stream",
     "text": [
      "Confusion Matrix for Multinomial Naive Bayes:\n",
      "[[2039  269]\n",
      " [ 338 7370]]\n",
      "Score: 93.94\n",
      "Classification Report:               precision    recall  f1-score   support\n",
      "\n",
      "           1       0.86      0.88      0.87      2308\n",
      "           5       0.96      0.96      0.96      7708\n",
      "\n",
      "    accuracy                           0.94     10016\n",
      "   macro avg       0.91      0.92      0.92     10016\n",
      "weighted avg       0.94      0.94      0.94     10016\n",
      "\n"
     ]
    }
   ],
   "source": [
    "# Create a Multinomial Naive Bayes classifier object.\n",
    "mnb = MultinomialNB()\n",
    "\n",
    "# Train the Multinomial Naive Bayes classifier using the training data.\n",
    "mnb.fit(x_train, y_train)\n",
    "\n",
    "# Make predictions on the test data.\n",
    "predmnb = mnb.predict(x_test)\n",
    "\n",
    "# Print the confusion matrix for the Multinomial Naive Bayes classifier.\n",
    "print(\"Confusion Matrix for Multinomial Naive Bayes:\")\n",
    "print(confusion_matrix(y_test, predmnb))\n",
    "\n",
    "# Print the accuracy score of the Multinomial Naive Bayes classifier on the test data.\n",
    "print(\"Score:\", round(accuracy_score(y_test, predmnb) * 100, 2))\n",
    "\n",
    "# Print the classification report for the Multinomial Naive Bayes classifier.\n",
    "print(\"Classification Report:\", classification_report(y_test, predmnb))\n"
   ]
  },
  {
   "cell_type": "code",
   "execution_count": 34,
   "id": "f94164b4",
   "metadata": {},
   "outputs": [
    {
     "name": "stdout",
     "output_type": "stream",
     "text": [
      "Confusion Matrix for Multinomial Naive Bayes:\n",
      "[[ 738 1570]\n",
      " [  19 7689]]\n",
      "Score: 84.14\n",
      "Classification Report:               precision    recall  f1-score   support\n",
      "\n",
      "           1       0.97      0.32      0.48      2308\n",
      "           5       0.83      1.00      0.91      7708\n",
      "\n",
      "    accuracy                           0.84     10016\n",
      "   macro avg       0.90      0.66      0.69     10016\n",
      "weighted avg       0.86      0.84      0.81     10016\n",
      "\n"
     ]
    }
   ],
   "source": [
    "# Create a TfidfTransformer to convert the raw term frequency matrix 'x' into a TF-IDF representation.\n",
    "tfidf_transformer = TfidfTransformer()\n",
    "x_tfidf = tfidf_transformer.fit_transform(x)\n",
    "\n",
    "# Split the TF-IDF transformed data into training and testing sets.\n",
    "x_tfidf_train, x_tfidf_test, y_tfidf_train, y_tfidf_test = train_test_split(x_tfidf, y, test_size=0.2, random_state=42)\n",
    "\n",
    "# Create a Multinomial Naive Bayes classifier for TF-IDF transformed data.\n",
    "mnb_tfidf = MultinomialNB()\n",
    "\n",
    "# Train the Multinomial Naive Bayes classifier on the TF-IDF transformed training data.\n",
    "mnb_tfidf.fit(x_tfidf_train, y_tfidf_train)\n",
    "\n",
    "# Make predictions on the TF-IDF transformed test data.\n",
    "pred_mnb_tfidf = mnb_tfidf.predict(x_tfidf_test)\n",
    "\n",
    "# Print the confusion matrix for the Multinomial Naive Bayes classifier on TF-IDF transformed data.\n",
    "print(\"Confusion Matrix for Multinomial Naive Bayes:\")\n",
    "print(confusion_matrix(y_tfidf_test, pred_mnb_tfidf))\n",
    "\n",
    "# Print the accuracy score of the Multinomial Naive Bayes classifier on TF-IDF transformed test data.\n",
    "print(\"Score:\", round(accuracy_score(y_tfidf_test, pred_mnb_tfidf) * 100, 2))\n",
    "\n",
    "# Print the classification report for the Multinomial Naive Bayes classifier on TF-IDF transformed test data.\n",
    "print(\"Classification Report:\", classification_report(y_tfidf_test, pred_mnb_tfidf))\n"
   ]
  },
  {
   "cell_type": "code",
   "execution_count": 35,
   "id": "93a1c170",
   "metadata": {},
   "outputs": [
    {
     "name": "stdout",
     "output_type": "stream",
     "text": [
      "Confusion Matrix for Random Forest Classifier:\n",
      "[[1465  843]\n",
      " [  55 7653]]\n",
      "Score: 91.03\n",
      "Classification Report:               precision    recall  f1-score   support\n",
      "\n",
      "           1       0.96      0.63      0.77      2308\n",
      "           5       0.90      0.99      0.94      7708\n",
      "\n",
      "    accuracy                           0.91     10016\n",
      "   macro avg       0.93      0.81      0.85     10016\n",
      "weighted avg       0.92      0.91      0.90     10016\n",
      "\n"
     ]
    }
   ],
   "source": [
    "rmfr = RandomForestClassifier()\n",
    "rmfr.fit(x_train,y_train)\n",
    "predrmfr = rmfr.predict(x_test)\n",
    "print(\"Confusion Matrix for Random Forest Classifier:\")\n",
    "print(confusion_matrix(y_test,predrmfr))\n",
    "print(\"Score:\",round(accuracy_score(y_test,predrmfr)*100,2))\n",
    "print(\"Classification Report:\",classification_report(y_test,predrmfr))"
   ]
  },
  {
   "cell_type": "code",
   "execution_count": 36,
   "id": "73cce4d6",
   "metadata": {},
   "outputs": [
    {
     "name": "stdout",
     "output_type": "stream",
     "text": [
      "Small unassuming place that changes their menu every so often. Cool decor and vibe inside their 30 seat restaurant. Call for a reservation. \n",
      "\n",
      "We had their beef tartar and pork belly to start and a salmon dish and lamb meal for mains. Everything was incredible! I could go on at length about how all the listed ingredients really make their dishes amazing but honestly you just need to go. \n",
      "\n",
      "A bit outside of downtown montreal but take the metro out and it's less than a 10 minute walk from the station.\n",
      "Actual Rating: 5\n",
      "Predicted Rating:\n"
     ]
    },
    {
     "data": {
      "text/plain": [
       "5"
      ]
     },
     "execution_count": 36,
     "metadata": {},
     "output_type": "execute_result"
    }
   ],
   "source": [
    "# Select a positive review from the 'text' DataFrame.\n",
    "positive_review = text['text'][1]\n",
    "\n",
    "# Print the text of the selected positive review.\n",
    "print(positive_review)\n",
    "\n",
    "# Print the actual star rating associated with the selected positive review.\n",
    "print(\"Actual Rating:\", text['stars'][1])\n",
    "\n",
    "# Transform the selected positive review using the previously trained CountVectorizer.\n",
    "pr_t = count_vec.transform([positive_review])\n",
    "\n",
    "# Print the predicted star rating for the selected positive review using the Multinomial Naive Bayes classifier.\n",
    "print(\"Predicted Rating:\")\n",
    "mnb.predict(pr_t)[0]\n"
   ]
  },
  {
   "cell_type": "code",
   "execution_count": 37,
   "id": "80639bdb",
   "metadata": {},
   "outputs": [
    {
     "name": "stdout",
     "output_type": "stream",
     "text": [
      "Love coming here. Yes the place always needs the floor swept but when you give out  peanuts in the shell how won't it always be a bit dirty. \n",
      "\n",
      "The food speaks for itself, so good. Burgers are made to order and the meat is put on the grill when you order your sandwich. Getting the small burger just means 1 patty, the regular is a 2 patty burger which is twice the deliciousness. \n",
      "\n",
      "Getting the Cajun fries adds a bit of spice to them and whatever size you order they always throw more fries (a lot more fries) into the bag.\n",
      "Actual Rating: 4\n",
      "Predicted Rating:\n"
     ]
    },
    {
     "data": {
      "text/plain": [
       "5"
      ]
     },
     "execution_count": 37,
     "metadata": {},
     "output_type": "execute_result"
    }
   ],
   "source": [
    "# Select a negative review from the 'text' DataFrame.\n",
    "negative_review = text['text'][3]\n",
    "\n",
    "# Print the text of the selected negative review.\n",
    "print(negative_review)\n",
    "\n",
    "# Print the actual star rating associated with the selected negative review.\n",
    "print(\"Actual Rating:\", text['stars'][3])\n",
    "\n",
    "# Transform the selected negative review using the previously trained CountVectorizer.\n",
    "nr_t = count_vec.transform([negative_review])\n",
    "\n",
    "# Print the predicted star rating for the selected negative review using the Multinomial Naive Bayes classifier.\n",
    "print(\"Predicted Rating:\")\n",
    "mnb.predict(nr_t)[0]\n"
   ]
  },
  {
   "cell_type": "code",
   "execution_count": null,
   "id": "92191f77",
   "metadata": {},
   "outputs": [],
   "source": []
  }
 ],
 "metadata": {
  "kernelspec": {
   "display_name": "Python 3 (ipykernel)",
   "language": "python",
   "name": "python3"
  },
  "language_info": {
   "codemirror_mode": {
    "name": "ipython",
    "version": 3
   },
   "file_extension": ".py",
   "mimetype": "text/x-python",
   "name": "python",
   "nbconvert_exporter": "python",
   "pygments_lexer": "ipython3",
   "version": "3.11.4"
  }
 },
 "nbformat": 4,
 "nbformat_minor": 5
}
